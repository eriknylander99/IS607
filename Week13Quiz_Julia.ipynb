{
 "metadata": {
  "language": "Julia",
  "name": "",
  "signature": "sha256:40ef9256bdf03f8046d4fa62c79a63460ffe8c053cede5fadd1232ae7ff88d40"
 },
 "nbformat": 3,
 "nbformat_minor": 0,
 "worksheets": [
  {
   "cells": [
    {
     "cell_type": "heading",
     "level": 1,
     "metadata": {},
     "source": [
      "Week 13 Quiz:"
     ]
    },
    {
     "cell_type": "heading",
     "level": 2,
     "metadata": {},
     "source": [
      "Timing a function for calculating the median in Julia"
     ]
    },
    {
     "cell_type": "markdown",
     "metadata": {},
     "source": [
      "For this week's quiz I will be comparing the timing of a function for finding the median in Julia, R, and Python. Let's start with generating a set or 100,000 random numbers between 0 and 100."
     ]
    },
    {
     "cell_type": "code",
     "collapsed": false,
     "input": [
      "srand(123)\n",
      "values = rand(0:100, 1000000)"
     ],
     "language": "python",
     "metadata": {},
     "outputs": [
      {
       "metadata": {},
       "output_type": "pyout",
       "prompt_number": 1,
       "text": [
        "1000000-element Array{Int64,1}:\n",
        " 67\n",
        " 37\n",
        " 52\n",
        " 50\n",
        " 35\n",
        " 50\n",
        " 53\n",
        " 42\n",
        " 35\n",
        " 99\n",
        " 10\n",
        " 96\n",
        " 88\n",
        "  \u22ee\n",
        " 18\n",
        " 43\n",
        " 59\n",
        " 71\n",
        " 61\n",
        " 37\n",
        " 93\n",
        "  8\n",
        " 26\n",
        " 25\n",
        " 94\n",
        " 31"
       ]
      }
     ],
     "prompt_number": 1
    },
    {
     "cell_type": "markdown",
     "metadata": {},
     "source": [
      "Now we will generate a simple function that takes an array of values as an input and calculates the median of the values."
     ]
    },
    {
     "cell_type": "code",
     "collapsed": false,
     "input": [
      "function med(x)\n",
      "    y = sort(x)\n",
      "    if length(y)%2 == 0\n",
      "        return mean([y[length(y)/2], y[length(y)/2+1]])\n",
      "    else\n",
      "        return y[ifloor(length(y)/2)]\n",
      "    end\n",
      "end"
     ],
     "language": "python",
     "metadata": {},
     "outputs": [
      {
       "metadata": {},
       "output_type": "pyout",
       "prompt_number": 2,
       "text": [
        "med (generic function with 1 method)"
       ]
      }
     ],
     "prompt_number": 2
    },
    {
     "cell_type": "code",
     "collapsed": false,
     "input": [
      "med(values)"
     ],
     "language": "python",
     "metadata": {},
     "outputs": [
      {
       "metadata": {},
       "output_type": "pyout",
       "prompt_number": 3,
       "text": [
        "50.0"
       ]
      }
     ],
     "prompt_number": 3
    },
    {
     "cell_type": "markdown",
     "metadata": {},
     "source": [
      "Now we will time the function using the @time command in Julia. One thing to note is that the documentation recommends that you run @time at least twice to get an accurate timing. The first running compiles the timing function and the function to be timed."
     ]
    },
    {
     "cell_type": "code",
     "collapsed": false,
     "input": [
      "@time med(values)"
     ],
     "language": "python",
     "metadata": {},
     "outputs": [
      {
       "output_type": "stream",
       "stream": "stdout",
       "text": [
        "elapsed time: "
       ]
      },
      {
       "output_type": "stream",
       "stream": "stdout",
       "text": [
        "0.083026863 seconds (8000304 bytes allocated)\n"
       ]
      },
      {
       "metadata": {},
       "output_type": "pyout",
       "prompt_number": 5,
       "text": [
        "50.0"
       ]
      }
     ],
     "prompt_number": 5
    },
    {
     "cell_type": "markdown",
     "metadata": {},
     "source": [
      "Using our function we get a time for finding the median of 0.096 seconds. Next we will try the built in function just to see what improvments we get by not writing our own base function!"
     ]
    },
    {
     "cell_type": "code",
     "collapsed": false,
     "input": [
      "@time median(values)"
     ],
     "language": "python",
     "metadata": {},
     "outputs": [
      {
       "output_type": "stream",
       "stream": "stdout",
       "text": [
        "elapsed time: "
       ]
      },
      {
       "output_type": "stream",
       "stream": "stdout",
       "text": [
        "0.032348462 seconds (8000296 bytes allocated)\n"
       ]
      },
      {
       "metadata": {},
       "output_type": "pyout",
       "prompt_number": 7,
       "text": [
        "50.0"
       ]
      }
     ],
     "prompt_number": 7
    },
    {
     "cell_type": "markdown",
     "metadata": {},
     "source": [
      "This gives us a significant improvment and also proves that we shouldn't try to recode the base functions!"
     ]
    }
   ],
   "metadata": {}
  }
 ]
}