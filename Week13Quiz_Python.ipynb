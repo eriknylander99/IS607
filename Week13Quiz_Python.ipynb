{
 "metadata": {
  "name": "",
  "signature": "sha256:5024747cc398b2770de5f536a36095bc0f848210908663369d545c6fe203e387"
 },
 "nbformat": 3,
 "nbformat_minor": 0,
 "worksheets": [
  {
   "cells": [
    {
     "cell_type": "heading",
     "level": 1,
     "metadata": {},
     "source": [
      "Week 13 Quiz:"
     ]
    },
    {
     "cell_type": "heading",
     "level": 2,
     "metadata": {},
     "source": [
      "Timing a function for calculating the median in Python"
     ]
    },
    {
     "cell_type": "markdown",
     "metadata": {},
     "source": [
      "For this week's quiz I will be comparing the timing of a function for finding the median in Julia, R, and Python. "
     ]
    },
    {
     "cell_type": "markdown",
     "metadata": {},
     "source": [
      "First we need to import certain packages to generate the random numbers and to calculate the median since there is no built in function for Python."
     ]
    },
    {
     "cell_type": "code",
     "collapsed": false,
     "input": [
      "import numpy as np\n",
      "import random\n",
      "import timeit"
     ],
     "language": "python",
     "metadata": {},
     "outputs": [],
     "prompt_number": 6
    },
    {
     "cell_type": "markdown",
     "metadata": {},
     "source": [
      "Let's start with generating a set or 100,000 random numbers between 0 and 100."
     ]
    },
    {
     "cell_type": "code",
     "collapsed": false,
     "input": [
      "random.seed(42)\n",
      "values=[random.randrange(1,101,1) for i in range (100000)]"
     ],
     "language": "python",
     "metadata": {},
     "outputs": [],
     "prompt_number": 11
    },
    {
     "cell_type": "markdown",
     "metadata": {},
     "source": [
      "Now we will create a simple function for finding the median of the set of values."
     ]
    },
    {
     "cell_type": "code",
     "collapsed": false,
     "input": [
      "def median(lst):\n",
      "    mid = len(lst) / 2\n",
      "    lst.sort() \n",
      "    if len(lst) % 2:\n",
      "        return float(lst[len(lst)/2 - 1] + lst[len(lst)/2])/2.0\n",
      "    else:\n",
      "        return float(lst[len(lst)/2])\n",
      "    \n",
      "    \n",
      "def numpy_median(lst):\n",
      "    return np.median(lst)"
     ],
     "language": "python",
     "metadata": {},
     "outputs": [],
     "prompt_number": 30
    },
    {
     "cell_type": "code",
     "collapsed": false,
     "input": [
      "print median(values)\n",
      "print numpy_median(values)"
     ],
     "language": "python",
     "metadata": {},
     "outputs": [
      {
       "output_type": "stream",
       "stream": "stdout",
       "text": [
        "51.0\n",
        "51.0\n"
       ]
      }
     ],
     "prompt_number": 31
    },
    {
     "cell_type": "markdown",
     "metadata": {},
     "source": [
      "Now that we have our function and an optimized function we can time both functions using the timeit package."
     ]
    },
    {
     "cell_type": "code",
     "collapsed": false,
     "input": [
      "n = 1000\n",
      "t = timeit.timeit(\"median(values)\", \n",
      "                  setup='from __main__ import median, values', \n",
      "                  number=1000)\n",
      "print \"Timing median(): %d loops in and average of %f seconds\" %(n, t/n)"
     ],
     "language": "python",
     "metadata": {},
     "outputs": [
      {
       "output_type": "stream",
       "stream": "stdout",
       "text": [
        "Timing median(): 1000 loops in and average of 0.003199 seconds\n"
       ]
      }
     ],
     "prompt_number": 23
    },
    {
     "cell_type": "code",
     "collapsed": false,
     "input": [
      "n = 1000\n",
      "t = timeit.timeit(\"numpy_median(values)\", \n",
      "                  setup='from __main__ import numpy_median, values', \n",
      "                  number=1000)\n",
      "print \"Timing numpy_median(): %d loops in and average of %f seconds\" %(n, t/n)"
     ],
     "language": "python",
     "metadata": {},
     "outputs": [
      {
       "output_type": "stream",
       "stream": "stdout",
       "text": [
        "Timing numpy_median(): 1000 loops in and average of 0.015304 seconds\n"
       ]
      }
     ],
     "prompt_number": 33
    },
    {
     "cell_type": "markdown",
     "metadata": {},
     "source": [
      "In this case it took the NumPy median function longer to generate the median than our built in function. The NumPy function took an average of 0.0153 seconds while our function took an average of 0.0031 seconds."
     ]
    }
   ],
   "metadata": {}
  }
 ]
}